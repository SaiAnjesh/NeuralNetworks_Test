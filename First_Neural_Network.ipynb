{
  "cells": [
    {
      "cell_type": "code",
      "execution_count": null,
      "metadata": {
        "id": "hjBWIxkTm-pL"
      },
      "outputs": [],
      "source": [
        "import torch\n",
        "from torch import nn\n",
        "import random # to generate rando numbers"
      ]
    },
    {
      "cell_type": "code",
      "execution_count": null,
      "metadata": {
        "id": "hpU9iMKOpLdF"
      },
      "outputs": [],
      "source": [
        "# Defining Mystery function\n",
        "def mystery_fn(a,b) -> torch.tensor:\n",
        "  return torch.tensor(a+3*b) # nn is going to take in all data as tensors"
      ]
    },
    {
      "cell_type": "code",
      "execution_count": null,
      "metadata": {
        "colab": {
          "base_uri": "https://localhost:8080/"
        },
        "id": "_ve507qFqN5h",
        "outputId": "5a9daeaf-56f3-49a9-82ee-a587bc1bae96"
      },
      "outputs": [
        {
          "data": {
            "text/plain": [
              "Sequential(\n",
              "  (0): Linear(in_features=2, out_features=1, bias=True)\n",
              ")"
            ]
          },
          "execution_count": 24,
          "metadata": {},
          "output_type": "execute_result"
        }
      ],
      "source": [
        "# Building NN - the Model\n",
        "model = nn.Sequential(nn.Linear(2,1)) # We have 2 inputs and 1 output\n",
        "\n",
        "# Displaying model\n",
        "model"
      ]
    },
    {
      "cell_type": "code",
      "execution_count": null,
      "metadata": {
        "id": "Wz4viEtksBSH"
      },
      "outputs": [],
      "source": [
        "# We need to train the neural network\n",
        "# To train the network there are 3 parts\n",
        "# 1. To check how well the criterion is doing\n",
        "# 2. To check how the NN is updated in the training process, which is the optimizer\n",
        "# 3. Just the training loop itself"
      ]
    },
    {
      "cell_type": "code",
      "execution_count": null,
      "metadata": {
        "id": "F7s4QvH2sehm"
      },
      "outputs": [],
      "source": [
        "# Checking the criterion\n",
        "criterion = nn.MSELoss()"
      ]
    },
    {
      "cell_type": "code",
      "execution_count": null,
      "metadata": {
        "id": "n_ElPa1Asjix"
      },
      "outputs": [],
      "source": [
        "# Optimization\n",
        "optimizer = torch.optim.SGD(params = model.parameters(), lr = 0.01, momentum = 0.09)"
      ]
    },
    {
      "cell_type": "code",
      "execution_count": null,
      "metadata": {
        "colab": {
          "base_uri": "https://localhost:8080/"
        },
        "id": "87MumkdWt6WY",
        "outputId": "814f113a-58ef-406f-a924-3d527dcd27cd"
      },
      "outputs": [
        {
          "name": "stdout",
          "output_type": "stream",
          "text": [
            "Loss : 0.0030834299977868795\n",
            "Loss : 0.0011630739318206906\n",
            "Loss : 0.006161749828606844\n",
            "Loss : 0.016778286546468735\n",
            "Loss : 0.004009834956377745\n",
            "Loss : 0.004403933882713318\n",
            "Loss : 0.0011001608800143003\n",
            "Loss : 0.0025834108237177134\n",
            "Loss : 0.0013650640612468123\n",
            "Loss : 0.0021937801502645016\n"
          ]
        }
      ],
      "source": [
        "# Training Loop\n",
        "for i in range(1000):\n",
        "\n",
        "  # Inputs\n",
        "  a_train = random.random()\n",
        "  b_train = random.random()\n",
        "\n",
        "  # Desired Output\n",
        "  desiredOutput = mystery_fn(a = a_train, b = b_train)\n",
        "\n",
        "  # Model Output\n",
        "  output = model(torch.tensor([a_train, b_train]))\n",
        "\n",
        "  # Compare Model output with Desired output\n",
        "  # Calling criterion\n",
        "  loss = criterion(output.squeeze(), desiredOutput)\n",
        "\n",
        "  # Track the loss thorughout the training process\n",
        "  if((i % 100) == 0):\n",
        "    print(f\"Loss : {loss.item()}\")\n",
        "\n",
        "  # Update the weights\n",
        "  optimizer.zero_grad()\n",
        "  loss.backward()\n",
        "  optimizer.step()"
      ]
    },
    {
      "cell_type": "code",
      "execution_count": null,
      "metadata": {
        "colab": {
          "base_uri": "https://localhost:8080/"
        },
        "id": "XG1qxZrjxMn0",
        "outputId": "0923105e-ddaa-4678-e03c-9d71625377a9"
      },
      "outputs": [
        {
          "name": "stdout",
          "output_type": "stream",
          "text": [
            "tensor([-1.8658], grad_fn=<AddBackward0>)\n",
            "tensor(-2.)\n"
          ]
        }
      ],
      "source": [
        "# Testing the model\n",
        "# Sample Input\n",
        "a_test = 1.0\n",
        "b_test = -1.0\n",
        "output_test = model(torch.tensor([a_test, b_test]))\n",
        "desiredOutput_test = mystery_fn(a = a_test, b = b_test)\n",
        "\n",
        "print(output_test)\n",
        "print(desiredOutput_test)"
      ]
    },
    {
      "cell_type": "code",
      "execution_count": null,
      "metadata": {
        "id": "waJrH8yMxmjK"
      },
      "outputs": [],
      "source": []
    }
  ],
  "metadata": {
    "colab": {
      "provenance": []
    },
    "kernelspec": {
      "display_name": "Python 3",
      "name": "python3"
    },
    "language_info": {
      "name": "python"
    }
  },
  "nbformat": 4,
  "nbformat_minor": 0
}
