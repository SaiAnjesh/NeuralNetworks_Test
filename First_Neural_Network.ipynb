{
  "nbformat": 4,
  "nbformat_minor": 0,
  "metadata": {
    "colab": {
      "provenance": []
    },
    "kernelspec": {
      "name": "python3",
      "display_name": "Python 3"
    },
    "language_info": {
      "name": "python"
    }
  },
  "cells": [
    {
      "cell_type": "code",
      "execution_count": null,
      "metadata": {
        "colab": {
          "base_uri": "https://localhost:8080/"
        },
        "id": "olsZaOcRmcL1",
        "outputId": "c3592cfc-e3a6-485a-ac6c-c6ac5fd2fae1"
      },
      "outputs": [
        {
          "output_type": "stream",
          "name": "stdout",
          "text": [
            "/content\n"
          ]
        }
      ],
      "source": [
        "# print(\"Sai Ram\")\n",
        "!pwd"
      ]
    },
    {
      "cell_type": "code",
      "source": [
        "import torch\n",
        "from torch import nn\n",
        "import random # to generate rando numbers"
      ],
      "metadata": {
        "id": "hjBWIxkTm-pL"
      },
      "execution_count": null,
      "outputs": []
    },
    {
      "cell_type": "code",
      "source": [
        "# Defining Mystery function\n",
        "def mystery_fn(a,b) -> torch.tensor:\n",
        "  return torch.tensor(a+3*b) # nn is going to take in all data as tensors"
      ],
      "metadata": {
        "id": "hpU9iMKOpLdF"
      },
      "execution_count": null,
      "outputs": []
    },
    {
      "cell_type": "code",
      "source": [
        "# Building NN - the Model\n",
        "model = nn.Sequential(nn.Linear(2,1)) # We have 2 inputs and 1 output\n",
        "\n",
        "# Displaying model\n",
        "model"
      ],
      "metadata": {
        "colab": {
          "base_uri": "https://localhost:8080/"
        },
        "id": "_ve507qFqN5h",
        "outputId": "5a9daeaf-56f3-49a9-82ee-a587bc1bae96"
      },
      "execution_count": null,
      "outputs": [
        {
          "output_type": "execute_result",
          "data": {
            "text/plain": [
              "Sequential(\n",
              "  (0): Linear(in_features=2, out_features=1, bias=True)\n",
              ")"
            ]
          },
          "metadata": {},
          "execution_count": 24
        }
      ]
    },
    {
      "cell_type": "code",
      "source": [
        "# We need to train the neural network\n",
        "# To train the network there are 3 parts\n",
        "# 1. To check how well the criterion is doing\n",
        "# 2. To check how the NN is updated in the training process, which is the optimizer\n",
        "# 3. Just the training loop itself"
      ],
      "metadata": {
        "id": "Wz4viEtksBSH"
      },
      "execution_count": null,
      "outputs": []
    },
    {
      "cell_type": "code",
      "source": [
        "# Checking the criterion\n",
        "criterion = nn.MSELoss()"
      ],
      "metadata": {
        "id": "F7s4QvH2sehm"
      },
      "execution_count": null,
      "outputs": []
    },
    {
      "cell_type": "code",
      "source": [
        "# Optimization\n",
        "optimizer = torch.optim.SGD(params = model.parameters(), lr = 0.01, momentum = 0.09)"
      ],
      "metadata": {
        "id": "n_ElPa1Asjix"
      },
      "execution_count": null,
      "outputs": []
    },
    {
      "cell_type": "code",
      "source": [
        "# Training Loop\n",
        "for i in range(1000):\n",
        "\n",
        "  # Inputs\n",
        "  a_train = random.random()\n",
        "  b_train = random.random()\n",
        "\n",
        "  # Desired Output\n",
        "  desiredOutput = mystery_fn(a = a_train, b = b_train)\n",
        "\n",
        "  # Model Output\n",
        "  output = model(torch.tensor([a_train, b_train]))\n",
        "\n",
        "  # Compare Model output with Desired output\n",
        "  # Calling criterion\n",
        "  loss = criterion(output.squeeze(), desiredOutput)\n",
        "\n",
        "  # Track the loss thorughout the training process\n",
        "  if((i % 100) == 0):\n",
        "    print(f\"Loss : {loss.item()}\")\n",
        "\n",
        "  # Update the weights\n",
        "  optimizer.zero_grad()\n",
        "  loss.backward()\n",
        "  optimizer.step()"
      ],
      "metadata": {
        "colab": {
          "base_uri": "https://localhost:8080/"
        },
        "id": "87MumkdWt6WY",
        "outputId": "814f113a-58ef-406f-a924-3d527dcd27cd"
      },
      "execution_count": null,
      "outputs": [
        {
          "output_type": "stream",
          "name": "stdout",
          "text": [
            "Loss : 0.0030834299977868795\n",
            "Loss : 0.0011630739318206906\n",
            "Loss : 0.006161749828606844\n",
            "Loss : 0.016778286546468735\n",
            "Loss : 0.004009834956377745\n",
            "Loss : 0.004403933882713318\n",
            "Loss : 0.0011001608800143003\n",
            "Loss : 0.0025834108237177134\n",
            "Loss : 0.0013650640612468123\n",
            "Loss : 0.0021937801502645016\n"
          ]
        }
      ]
    },
    {
      "cell_type": "code",
      "source": [
        "# Testing the model\n",
        "# Sample Input\n",
        "a_test = 1.0\n",
        "b_test = -1.0\n",
        "output_test = model(torch.tensor([a_test, b_test]))\n",
        "desiredOutput_test = mystery_fn(a = a_test, b = b_test)\n",
        "\n",
        "print(output_test)\n",
        "print(desiredOutput_test)"
      ],
      "metadata": {
        "colab": {
          "base_uri": "https://localhost:8080/"
        },
        "id": "XG1qxZrjxMn0",
        "outputId": "0923105e-ddaa-4678-e03c-9d71625377a9"
      },
      "execution_count": null,
      "outputs": [
        {
          "output_type": "stream",
          "name": "stdout",
          "text": [
            "tensor([-1.8658], grad_fn=<AddBackward0>)\n",
            "tensor(-2.)\n"
          ]
        }
      ]
    },
    {
      "cell_type": "code",
      "source": [],
      "metadata": {
        "id": "waJrH8yMxmjK"
      },
      "execution_count": null,
      "outputs": []
    }
  ]
}